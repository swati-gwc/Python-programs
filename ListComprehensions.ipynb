{
 "cells": [
  {
   "cell_type": "markdown",
   "metadata": {},
   "source": [
    "# LIST AND LIST COMPREHENSIONS\n",
    "Practise Notebook on the concept of list comprehensions in python"
   ]
  },
  {
   "cell_type": "markdown",
   "metadata": {},
   "source": [
    "## List Comprehensions\n",
    "\n",
    "What is List comprehension?<br>\n",
    "An intuitive, easy-to-read and a very convenient way of creating lists."
   ]
  },
  {
   "cell_type": "markdown",
   "metadata": {},
   "source": [
    "Following are the ways to decribe syntax of List comprehensions:\n",
    "1. [expression for item in list]\n",
    "2. [[output variable] for(i in iterable) if(filter conditions)]"
   ]
  },
  {
   "cell_type": "markdown",
   "metadata": {},
   "source": [
    "### Parsing a string and converting it into a list of letters"
   ]
  },
  {
   "cell_type": "code",
   "execution_count": 1,
   "metadata": {},
   "outputs": [
    {
     "name": "stdout",
     "output_type": "stream",
     "text": [
      "['T', 'h', 'i', 's', ' ', 'i', 's', ' ', 's', 't', 'r', 'i', 'n', 'g']\n"
     ]
    }
   ],
   "source": [
    "letter = [alphabet for alphabet in \"This is string\"]\n",
    "print(letter)"
   ]
  },
  {
   "cell_type": "markdown",
   "metadata": {},
   "source": [
    "###  Print the square of each number in given list"
   ]
  },
  {
   "cell_type": "code",
   "execution_count": 2,
   "metadata": {},
   "outputs": [
    {
     "name": "stdout",
     "output_type": "stream",
     "text": [
      "[1, 4, 9, 16, 25]\n"
     ]
    }
   ],
   "source": [
    "## Doing this via list comprehensions \n",
    "squaredNumber = [i**2 for i in [1,2,3,4,5]]\n",
    "print(squaredNumber)"
   ]
  },
  {
   "cell_type": "code",
   "execution_count": 3,
   "metadata": {},
   "outputs": [
    {
     "name": "stdout",
     "output_type": "stream",
     "text": [
      "[1, 4, 9, 16, 25]\n"
     ]
    }
   ],
   "source": [
    "## Doing this via loop\n",
    "squaredNumber = []\n",
    "for i in [1,2,3,4,5]:\n",
    "    squaredNumber.append(i**2)\n",
    "print(squaredNumber)"
   ]
  },
  {
   "cell_type": "markdown",
   "metadata": {},
   "source": [
    "### Print the square of only even numbers from the given list"
   ]
  },
  {
   "cell_type": "code",
   "execution_count": 4,
   "metadata": {},
   "outputs": [
    {
     "name": "stdout",
     "output_type": "stream",
     "text": [
      "[4, 16]\n"
     ]
    }
   ],
   "source": [
    "## Doing this via list comprehensions \n",
    "squaredNumber = [i**2 for i in [1,2,3,4,5] if i%2==0]\n",
    "print(squaredNumber)"
   ]
  },
  {
   "cell_type": "code",
   "execution_count": 5,
   "metadata": {},
   "outputs": [
    {
     "name": "stdout",
     "output_type": "stream",
     "text": [
      "[4, 16]\n"
     ]
    }
   ],
   "source": [
    "## Doing this via loop\n",
    "squaredNumber = []\n",
    "for i in [1,2,3,4,5]:\n",
    "    if i%2==0:\n",
    "        squaredNumber.append(i**2)\n",
    "print(squaredNumber)"
   ]
  },
  {
   "cell_type": "markdown",
   "metadata": {},
   "source": [
    "### Print the square of even numbers and print the cube of odd numbers from the given list"
   ]
  },
  {
   "cell_type": "code",
   "execution_count": 6,
   "metadata": {},
   "outputs": [
    {
     "name": "stdout",
     "output_type": "stream",
     "text": [
      "[1, 4, 27, 16, 125]\n"
     ]
    }
   ],
   "source": [
    "## Doing this via list comprehensions \n",
    "squaredNumber = [i**2 if i%2==0 else i**3 for i in [1,2,3,4,5]]\n",
    "print(squaredNumber)"
   ]
  },
  {
   "cell_type": "code",
   "execution_count": 7,
   "metadata": {},
   "outputs": [
    {
     "name": "stdout",
     "output_type": "stream",
     "text": [
      "[1, 4, 27, 16, 125]\n"
     ]
    }
   ],
   "source": [
    "## Doing this via loop\n",
    "squaredNumber = []\n",
    "for i in [1,2,3,4,5]:\n",
    "    if i%2==0:\n",
    "        squaredNumber.append(i**2)\n",
    "    else:\n",
    "        squaredNumber.append(i**3)\n",
    "print(squaredNumber)"
   ]
  },
  {
   "cell_type": "markdown",
   "metadata": {},
   "source": [
    "### List comprehension on 2D-Matrix"
   ]
  },
  {
   "cell_type": "code",
   "execution_count": 8,
   "metadata": {},
   "outputs": [
    {
     "name": "stdout",
     "output_type": "stream",
     "text": [
      "2D Matrix:  [[1, 2, 3], [4, 5, 6], [7, 8, 9], [10, 11, 12], [13, 14, 15]]\n"
     ]
    }
   ],
   "source": [
    "mat = [[1,2,3],[4,5,6],[7,8,9],[10,11,12],[13,14,15]]\n",
    "print(\"2D Matrix: \",mat)"
   ]
  },
  {
   "cell_type": "markdown",
   "metadata": {},
   "source": [
    "### Printing multiples of 3 present in mat - 2d matrix"
   ]
  },
  {
   "cell_type": "code",
   "execution_count": 9,
   "metadata": {},
   "outputs": [
    {
     "name": "stdout",
     "output_type": "stream",
     "text": [
      "[3, 6, 9, 12, 15]\n"
     ]
    }
   ],
   "source": [
    "## Doing this via list comprehensions \n",
    "result = [i for row in mat for i in row if i%3==0]\n",
    "print(result)"
   ]
  },
  {
   "cell_type": "code",
   "execution_count": 10,
   "metadata": {},
   "outputs": [
    {
     "name": "stdout",
     "output_type": "stream",
     "text": [
      "[3, 6, 9, 12, 15]\n"
     ]
    }
   ],
   "source": [
    "## Doing this via loop\n",
    "result = []\n",
    "for row in mat:\n",
    "    for i in row:\n",
    "        if i%3==0:\n",
    "            result.append(i)\n",
    "print(result)"
   ]
  },
  {
   "cell_type": "markdown",
   "metadata": {},
   "source": [
    "### From given list print the number and its index as a tuple if it is a multiple of 5"
   ]
  },
  {
   "cell_type": "code",
   "execution_count": 11,
   "metadata": {},
   "outputs": [
    {
     "name": "stdout",
     "output_type": "stream",
     "text": [
      "[(5, 1), (15, 2), (10, 3), (20, 6), (0, 8), (90, 9)]\n"
     ]
    }
   ],
   "source": [
    "## Doing this via list comprehensions \n",
    "mylist = [1,5,15,10,3,9,20,2,0,90]\n",
    "result = [(i, mylist.index(i)) for i in mylist if i%5==0]\n",
    "print(result)"
   ]
  },
  {
   "cell_type": "code",
   "execution_count": 12,
   "metadata": {},
   "outputs": [
    {
     "name": "stdout",
     "output_type": "stream",
     "text": [
      "[(5, 1), (15, 2), (10, 3), (20, 6), (0, 8), (90, 9)]\n"
     ]
    }
   ],
   "source": [
    "## Doing this via loop\n",
    "result = []\n",
    "for i in mylist:\n",
    "    if i%5==0:\n",
    "        result.append((i, mylist.index(i)))\n",
    "print(result)"
   ]
  },
  {
   "cell_type": "markdown",
   "metadata": {},
   "source": [
    "### Create a dictionary to store numbers and its index that are present in given list which are multiples of 3"
   ]
  },
  {
   "cell_type": "code",
   "execution_count": 13,
   "metadata": {},
   "outputs": [
    {
     "name": "stdout",
     "output_type": "stream",
     "text": [
      "{3: 1, 15: 2, 9: 5, 0: 8, 90: 9, 30: 10}\n"
     ]
    }
   ],
   "source": [
    "## Doing this via list comprehensions \n",
    "mylist = [1,3,15,10,3,9,20,2,0,90,30,112,2]\n",
    "result = {i:mylist.index(i) for i in mylist if i%3==0 }\n",
    "print(result)"
   ]
  },
  {
   "cell_type": "code",
   "execution_count": 14,
   "metadata": {},
   "outputs": [
    {
     "name": "stdout",
     "output_type": "stream",
     "text": [
      "{3: 1, 15: 2, 9: 5, 0: 8, 90: 9, 30: 10}\n"
     ]
    }
   ],
   "source": [
    "## Doing this via loop\n",
    "result = {}\n",
    "for i in mylist:\n",
    "    if i%3==0:\n",
    "        result[i] = mylist.index(i);\n",
    "print(result)"
   ]
  },
  {
   "cell_type": "markdown",
   "metadata": {},
   "source": [
    "### Tokenize given sentences into words and store it in result list excluding the words which are in block [] list"
   ]
  },
  {
   "cell_type": "code",
   "execution_count": 15,
   "metadata": {},
   "outputs": [],
   "source": [
    "sentences = [\n",
    "    \"Hi I am Swati\",\n",
    "    \"I love to draw and paint\",\n",
    "    'Am I a nerd ?'\n",
    "]\n",
    "block = ['I','to','and','?']"
   ]
  },
  {
   "cell_type": "code",
   "execution_count": 16,
   "metadata": {},
   "outputs": [
    {
     "name": "stdout",
     "output_type": "stream",
     "text": [
      "['Hi', 'am', 'Swati', 'love', 'draw', 'paint', 'Am', 'a', 'nerd']\n"
     ]
    }
   ],
   "source": [
    "## Doing this via list comprehensions \n",
    "## Creating a 1D matrix for acceptable words that are not in block\n",
    "result = [word for sentence in sentences for word in sentence.split(' ') if word not in block]\n",
    "print(result)"
   ]
  },
  {
   "cell_type": "code",
   "execution_count": 17,
   "metadata": {},
   "outputs": [
    {
     "name": "stdout",
     "output_type": "stream",
     "text": [
      "[['Hi', 'am', 'Swati'], ['love', 'draw', 'paint'], ['Am', 'a', 'nerd']]\n"
     ]
    }
   ],
   "source": [
    "## Doing this via list comprehensions \n",
    "## Creating a 2D matrix for acceptable words that are not in block\n",
    "result = [[word for word in sentence.split(' ') if word not in block] for sentence in sentences]\n",
    "print(result)"
   ]
  },
  {
   "cell_type": "code",
   "execution_count": 18,
   "metadata": {},
   "outputs": [
    {
     "name": "stdout",
     "output_type": "stream",
     "text": [
      "[['Hi', 'am', 'Swati'], ['love', 'draw', 'paint'], ['Am', 'a', 'nerd']]\n"
     ]
    }
   ],
   "source": [
    "## Doing this via loop\n",
    "result = []\n",
    "for sentence in sentences:\n",
    "    tokens = []\n",
    "    for word in sentence.split(' '):\n",
    "        if word not in block:\n",
    "            tokens.append(word)\n",
    "    result.append(tokens)\n",
    "    \n",
    "    \n",
    "print(result)"
   ]
  },
  {
   "cell_type": "markdown",
   "metadata": {},
   "source": [
    "### Given a 1D list, negate all elements which are between 3 and 8, using list comprehensions"
   ]
  },
  {
   "cell_type": "code",
   "execution_count": 19,
   "metadata": {},
   "outputs": [
    {
     "name": "stdout",
     "output_type": "stream",
     "text": [
      "[1, 2, -3, -4, -5, -6, -7, -8, 9, 10, 11, 12, 13]\n"
     ]
    }
   ],
   "source": [
    "mylist = [1,2,3,4,5,6,7,8,9,10,11,12,13]\n",
    "result = [-i if 3<= i <=8 else i for i in mylist]\n",
    "print(result)"
   ]
  },
  {
   "cell_type": "markdown",
   "metadata": {},
   "source": [
    "### Make a dictionary of the 26 english alphabets mapping each with the corresponding integer."
   ]
  },
  {
   "cell_type": "code",
   "execution_count": 20,
   "metadata": {},
   "outputs": [
    {
     "name": "stdout",
     "output_type": "stream",
     "text": [
      "{'a': 1, 'b': 2, 'c': 3, 'd': 4, 'e': 5, 'f': 6, 'g': 7, 'h': 8, 'i': 9, 'j': 10, 'k': 11, 'l': 12, 'm': 13, 'n': 14, 'o': 15, 'p': 16, 'q': 17, 'r': 18, 's': 19, 't': 20, 'u': 21, 'v': 22, 'w': 23, 'x': 24, 'y': 25, 'z': 26}\n"
     ]
    }
   ],
   "source": [
    "import string\n",
    "mylist = {a:i+1 for a,i in zip(string.ascii_letters[:26], range(26))}\n",
    "print(mylist)"
   ]
  },
  {
   "cell_type": "markdown",
   "metadata": {},
   "source": [
    "### Replace all alphabets in the string ‘I love ice Cream’, by substituting the alphabet with the corresponding numbers, like 1 for ‘a’, 2 for ‘b’ and so on."
   ]
  },
  {
   "cell_type": "code",
   "execution_count": 21,
   "metadata": {},
   "outputs": [
    {
     "name": "stdout",
     "output_type": "stream",
     "text": [
      "[9, ' ', 12, 15, 22, 5, ' ', 9, 3, 5, ' ', 3, 18, 5, 1, 13]\n"
     ]
    }
   ],
   "source": [
    "import string\n",
    "sentence = {a:i+1 for a,i in zip(string.ascii_lowercase, range(26))}\n",
    "print([sentence.get(a.lower(),' ') for a in 'I love ice Cream'])"
   ]
  },
  {
   "cell_type": "markdown",
   "metadata": {},
   "source": [
    "### Get the unique list of words from the following sentences, excluding any stopwords."
   ]
  },
  {
   "cell_type": "code",
   "execution_count": 22,
   "metadata": {},
   "outputs": [],
   "source": [
    "sentences = [\"The Hubble Space telescope has spotted\", \n",
    "             \"a formation of galaxies that resembles\", \n",
    "             \"a smiling face in the sky\"]\n",
    "stopwords = ['for', 'a', 'of', 'the', 'and', 'to', 'in', 'on', 'with']"
   ]
  },
  {
   "cell_type": "code",
   "execution_count": 23,
   "metadata": {},
   "outputs": [
    {
     "data": {
      "text/plain": [
       "{'face',\n",
       " 'formation',\n",
       " 'galaxies',\n",
       " 'has',\n",
       " 'hubble',\n",
       " 'resembles',\n",
       " 'sky',\n",
       " 'smiling',\n",
       " 'space',\n",
       " 'spotted',\n",
       " 'telescope',\n",
       " 'that',\n",
       " 'the'}"
      ]
     },
     "execution_count": 23,
     "metadata": {},
     "output_type": "execute_result"
    }
   ],
   "source": [
    "{word.lower() for sentence in sentences for word in sentence.split(' ') if word not in stopwords}"
   ]
  },
  {
   "cell_type": "markdown",
   "metadata": {},
   "source": [
    "### Tokenize the following sentences excluding all stopwords and punctuations."
   ]
  },
  {
   "cell_type": "code",
   "execution_count": 24,
   "metadata": {},
   "outputs": [],
   "source": [
    "sentences = [\"The Hubble Space telescope has spotted\", \n",
    "             \"a formation of galaxies that resembles\", \n",
    "             \"a smiling face in the sky\", \n",
    "             \"The image taken with the Wide Field Camera\", \n",
    "             \"shows a patch of space filled with galaxies\", \n",
    "             \"of all shapes, colours and sizes\"]\n",
    "\n",
    "stopwords = ['for', 'a', 'of', 'the', 'and', 'to', 'in', 'on', 'with']"
   ]
  },
  {
   "cell_type": "code",
   "execution_count": 25,
   "metadata": {},
   "outputs": [
    {
     "name": "stdout",
     "output_type": "stream",
     "text": [
      "[['the', 'hubble', 'space', 'telescope', 'has', 'spotted'], ['formation', 'galaxies', 'that', 'resembles'], ['smiling', 'face', 'sky'], ['the', 'image', 'taken', 'wide', 'field', 'camera'], ['shows', 'patch', 'space', 'filled', 'galaxies'], ['all', 'shapes,', 'colours', 'sizes']]\n"
     ]
    }
   ],
   "source": [
    "tokens = [[words.lower() for words in sentence.split(' ') if words not in stopwords] for sentence in sentences]\n",
    "print(tokens)"
   ]
  },
  {
   "cell_type": "markdown",
   "metadata": {},
   "source": [
    "### Create a list of (word:id) pairs for all words in the following sentences, where id is the sentence index."
   ]
  },
  {
   "cell_type": "code",
   "execution_count": 26,
   "metadata": {},
   "outputs": [],
   "source": [
    "sentences = [\"The Hubble Space telescope has spotted\", \n",
    "             \"a formation of galaxies that resembles\", \n",
    "             \"a smiling face in the sky\"]"
   ]
  },
  {
   "cell_type": "code",
   "execution_count": 27,
   "metadata": {},
   "outputs": [
    {
     "data": {
      "text/plain": [
       "[('the', 0),\n",
       " ('hubble', 0),\n",
       " ('space', 0),\n",
       " ('telescope', 0),\n",
       " ('has', 0),\n",
       " ('spotted', 0),\n",
       " ('a', 1),\n",
       " ('formation', 1),\n",
       " ('of', 1),\n",
       " ('galaxies', 1),\n",
       " ('that', 1),\n",
       " ('resembles', 1),\n",
       " ('a', 2),\n",
       " ('smiling', 2),\n",
       " ('face', 2),\n",
       " ('in', 2),\n",
       " ('the', 2),\n",
       " ('sky', 2)]"
      ]
     },
     "execution_count": 27,
     "metadata": {},
     "output_type": "execute_result"
    }
   ],
   "source": [
    "[(word.lower(),i) for i,sentence in enumerate(sentences) for word in sentence.split(' ')]"
   ]
  },
  {
   "cell_type": "markdown",
   "metadata": {},
   "source": [
    "### Print the inner positions of the 64 squares in a chess board, replacing the boundary squares with the string ‘—-‘."
   ]
  },
  {
   "cell_type": "code",
   "execution_count": 28,
   "metadata": {},
   "outputs": [
    {
     "data": {
      "text/plain": [
       "[['---', '---', '---', '---', '---', '---', '---', '---'],\n",
       " ['---', (1, 1), (2, 1), (3, 1), (4, 1), (5, 1), (6, 1), '---'],\n",
       " ['---', (1, 2), (2, 2), (3, 2), (4, 2), (5, 2), (6, 2), '---'],\n",
       " ['---', (1, 3), (2, 3), (3, 3), (4, 3), (5, 3), (6, 3), '---'],\n",
       " ['---', (1, 4), (2, 4), (3, 4), (4, 4), (5, 4), (6, 4), '---'],\n",
       " ['---', (1, 5), (2, 5), (3, 5), (4, 5), (5, 5), (6, 5), '---'],\n",
       " ['---', (1, 6), (2, 6), (3, 6), (4, 6), (5, 6), (6, 6), '---'],\n",
       " ['---', '---', '---', '---', '---', '---', '---', '---']]"
      ]
     },
     "execution_count": 28,
     "metadata": {},
     "output_type": "execute_result"
    }
   ],
   "source": [
    "[[(i,j) if i not in(0,7) and j not in (0,7) else ('---') for i in range (8)] for j in range(8)]"
   ]
  },
  {
   "cell_type": "code",
   "execution_count": null,
   "metadata": {},
   "outputs": [],
   "source": []
  }
 ],
 "metadata": {
  "kernelspec": {
   "display_name": "Python 3",
   "language": "python",
   "name": "python3"
  },
  "language_info": {
   "codemirror_mode": {
    "name": "ipython",
    "version": 3
   },
   "file_extension": ".py",
   "mimetype": "text/x-python",
   "name": "python",
   "nbconvert_exporter": "python",
   "pygments_lexer": "ipython3",
   "version": "3.7.6"
  }
 },
 "nbformat": 4,
 "nbformat_minor": 4
}
